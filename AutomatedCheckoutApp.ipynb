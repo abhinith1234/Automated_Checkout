{
 "cells": [
  {
   "cell_type": "markdown",
   "metadata": {},
   "source": [
    "### Importing modules"
   ]
  },
  {
   "cell_type": "code",
   "execution_count": 1,
   "metadata": {},
   "outputs": [],
   "source": [
    "import tkinter as tk\n",
    "from tkinter import ttk\n",
    "from tkinter import filedialog as fd\n",
    "import matplotlib.pyplot as plt\n",
    "import matplotlib.image as mpimg\n",
    "from PIL import Image, ImageTk\n",
    "import torch"
   ]
  },
  {
   "cell_type": "markdown",
   "metadata": {},
   "source": [
    "### Detection Function for Image"
   ]
  },
  {
   "cell_type": "code",
   "execution_count": 2,
   "metadata": {},
   "outputs": [],
   "source": [
    "def run_detect(filename):\n",
    "    s = !python detect.py --source $filename --weights \"C:\\Users\\nakul\\Documents\\Nakul\\Machine Learning\\Project\\yolov5\\best.pt\" --conf 0.25\n",
    "    item = []\n",
    "    for i in range(len(s)):\n",
    "        if('Done' in s[i]):\n",
    "            item.append(s[i])\n",
    "\n",
    "    for i in item:\n",
    "        new = i.split()\n",
    "        del new[:5]\n",
    "        del new[-2:]\n",
    "        for j in new:\n",
    "            j = j[:-1]\n",
    "    return j"
   ]
  },
  {
   "cell_type": "markdown",
   "metadata": {},
   "source": [
    "### Image detection App"
   ]
  },
  {
   "cell_type": "markdown",
   "metadata": {},
   "source": [
    "Run the below code to detect image "
   ]
  },
  {
   "cell_type": "code",
   "execution_count": 4,
   "metadata": {},
   "outputs": [],
   "source": [
    "window = tk.Tk()\n",
    "window.title('Automated Checkout App')\n",
    "window.geometry(\"640x480+10+10\")\n",
    "#bg = ImageTk.PhotoImage(Image.open(\"bg1.jpg\").resize((1920,1080)))\n",
    "#labelbg = tk.Label(image = bg)\n",
    "#labelbg.place(x = 0, y = 0)\n",
    "def open_image_file():\n",
    "        filetypes = (\n",
    "            ('JPG file', '*.jpg'),\n",
    "            ('PNG file', '*.png'),\n",
    "            ('All files', '*.*')\n",
    "        )\n",
    "        f = fd.askopenfile(filetypes=filetypes)\n",
    "        filename = f.name\n",
    "        image1 = Image.open(filename)\n",
    "        image1 = image1.resize((300,300))\n",
    "        test = ImageTk.PhotoImage(image1)\n",
    "        label1 = tk.Label(image=test)\n",
    "        label1.image = test\n",
    "        label1.place(x=300, y=100)\n",
    "        item = run_detect(filename)\n",
    "        try:\n",
    "            text_box.destroy()\n",
    "        except:\n",
    "            pass\n",
    "        finally:\n",
    "            text_box = tk.Label(window, text = 'Predicted Item: {}'.format(item), font = (\"Montserrat\", 12))\n",
    "            text_box.place(x = 50, y = 150)\n",
    "    \n",
    "open_button = tk.Button(\n",
    "            window,\n",
    "            text='Open a File',\n",
    "            command=open_image_file,\n",
    "            font = (\"Montserrat\", 16)\n",
    "        )\n",
    "open_button.place(x = 250, y = 40)\n",
    "window.mainloop()"
   ]
  },
  {
   "cell_type": "markdown",
   "metadata": {},
   "source": [
    "### Video detection and Bill generation function"
   ]
  },
  {
   "cell_type": "code",
   "execution_count": 7,
   "metadata": {},
   "outputs": [],
   "source": [
    "def run_detect_vdo(filename):\n",
    "    s = !python detect.py --source $filename --weights \"C:\\Users\\nakul\\Documents\\Nakul\\Machine Learning\\Project\\yolov5\\best.pt\" --conf 0.25\n",
    "    actual_list = []\n",
    "    for i in range(len(s)):\n",
    "      if('Done' in s[i]):\n",
    "        actual_list.append(s[i])\n",
    "    new_list = []\n",
    "    for i in actual_list:\n",
    "      new = i.split()\n",
    "      del new[2]\n",
    "      del new[-2:]\n",
    "      items = new[4:]\n",
    "      new_list.append(items)\n",
    "    res = []\n",
    "    [res.append(x) for x in new_list if x not in res]\n",
    "    res = [ele for ele in res if ele != []]\n",
    "    bill = {}\n",
    "    classes = ['bread,','butter,','egg,','milk,', 'coconuts,']\n",
    "    for i in range(len(res)):\n",
    "      for j in res[i]:\n",
    "        if(j in classes):\n",
    "          index = res[i].index(j)\n",
    "          if(j in list(bill.keys())):\n",
    "            bill[j] = bill[j] + int(res[i][index-1])\n",
    "          else:\n",
    "            bill[j] = int(res[i][index-1])\n",
    "\n",
    "    print(bill)\n",
    "    import pandas as pd\n",
    "\n",
    "    # per unit cost for each item \n",
    "    price = {'bread,' : 45 ,\n",
    "             'butter,' : 60,\n",
    "             'egg,': 50,\n",
    "             'milk,': 30,\n",
    "             'coconuts,': 15}\n",
    "\n",
    "    # Creating the bill in a Dataframe\n",
    "    df = pd.DataFrame()\n",
    "    df['item(s)']=bill.keys()\n",
    "    df['quantity']=bill.values()\n",
    "    price_l=[]\n",
    "\n",
    "    # Calculating the price of each item\n",
    "    for i in range(len(df)):\n",
    "      #print(df['item(s)'][i])\n",
    "      p=price[df['item(s)'][i]]\n",
    "      q=df['quantity'][i]\n",
    "      p=p*q\n",
    "      price_l.append(p)\n",
    "\n",
    "    # Adding the price values to the dataframe \n",
    "    df['price']=price_l\n",
    "\n",
    "    # Displaying the output in a formatted way\n",
    "    print(\"Bill Generated\"+'\\n',df)\n",
    "    print(\"\\n\\n\"+\"Grand total: \",sum(df['price']))"
   ]
  },
  {
   "cell_type": "markdown",
   "metadata": {},
   "source": [
    "## Result"
   ]
  },
  {
   "cell_type": "markdown",
   "metadata": {},
   "source": [
    "### Automated Checkout System with Bill Generation"
   ]
  },
  {
   "cell_type": "markdown",
   "metadata": {},
   "source": [
    "Lets assume the video passed to the app is: "
   ]
  },
  {
   "cell_type": "markdown",
   "metadata": {},
   "source": [
    "![SegmentLocal](test.gif \"segment\")"
   ]
  },
  {
   "cell_type": "code",
   "execution_count": 10,
   "metadata": {},
   "outputs": [
    {
     "name": "stdout",
     "output_type": "stream",
     "text": [
      "{'bread,': 2, 'butter,': 1, 'coconuts,': 2, 'egg,': 1, 'milk,': 1}\n",
      "Bill Generated\n",
      "      item(s)  quantity  price\n",
      "0     bread,         2     90\n",
      "1    butter,         1     60\n",
      "2  coconuts,         2     30\n",
      "3       egg,         1     50\n",
      "4      milk,         1     30\n",
      "\n",
      "\n",
      "Grand total:  260\n"
     ]
    }
   ],
   "source": [
    "window = tk.Tk()\n",
    "window.title('Automated Checkout App')\n",
    "window.geometry(\"640x480+10+10\")\n",
    "def open_image_file():\n",
    "        filetypes = (\n",
    "            ('MP4 file', '*.mp4'),\n",
    "            ('All files', '*.*')\n",
    "        )\n",
    "        f = fd.askopenfile(filetypes=filetypes)\n",
    "        filename = f.name\n",
    "        run_detect_vdo(filename)\n",
    "    \n",
    "open_button = tk.Button(\n",
    "            window,\n",
    "            text='Open a File',\n",
    "            command=open_image_file,\n",
    "            font = (\"Montserrat\", 16)\n",
    "        )\n",
    "open_button.place(x = 250, y = 40)\n",
    "window.mainloop()"
   ]
  },
  {
   "cell_type": "markdown",
   "metadata": {},
   "source": [
    "Here the bill generates as predicted and the model works"
   ]
  }
 ],
 "metadata": {
  "accelerator": "GPU",
  "colab": {
   "collapsed_sections": [],
   "include_colab_link": true,
   "machine_shape": "hm",
   "name": "YOLOv5 Tutorial",
   "provenance": []
  },
  "kernelspec": {
   "display_name": "Python 3 (ipykernel)",
   "language": "python",
   "name": "python3"
  },
  "language_info": {
   "codemirror_mode": {
    "name": "ipython",
    "version": 3
   },
   "file_extension": ".py",
   "mimetype": "text/x-python",
   "name": "python",
   "nbconvert_exporter": "python",
   "pygments_lexer": "ipython3",
   "version": "3.9.12"
  },
  "widgets": {
   "application/vnd.jupyter.widget-state+json": {
    "098c321358c24cdbb50f6c0e6623bf6c": {
     "model_module": "@jupyter-widgets/base",
     "model_module_version": "1.2.0",
     "model_name": "LayoutModel",
     "state": {
      "_model_module": "@jupyter-widgets/base",
      "_model_module_version": "1.2.0",
      "_model_name": "LayoutModel",
      "_view_count": null,
      "_view_module": "@jupyter-widgets/base",
      "_view_module_version": "1.2.0",
      "_view_name": "LayoutView",
      "align_content": null,
      "align_items": null,
      "align_self": null,
      "border": null,
      "bottom": null,
      "display": null,
      "flex": null,
      "flex_flow": null,
      "grid_area": null,
      "grid_auto_columns": null,
      "grid_auto_flow": null,
      "grid_auto_rows": null,
      "grid_column": null,
      "grid_gap": null,
      "grid_row": null,
      "grid_template_areas": null,
      "grid_template_columns": null,
      "grid_template_rows": null,
      "height": null,
      "justify_content": null,
      "justify_items": null,
      "left": null,
      "margin": null,
      "max_height": null,
      "max_width": null,
      "min_height": null,
      "min_width": null,
      "object_fit": null,
      "object_position": null,
      "order": null,
      "overflow": null,
      "overflow_x": null,
      "overflow_y": null,
      "padding": null,
      "right": null,
      "top": null,
      "visibility": null,
      "width": null
     }
    },
    "20184030ca9d4aef9dac0a149b89e4d3": {
     "model_module": "@jupyter-widgets/controls",
     "model_module_version": "1.5.0",
     "model_name": "DescriptionStyleModel",
     "state": {
      "_model_module": "@jupyter-widgets/controls",
      "_model_module_version": "1.5.0",
      "_model_name": "DescriptionStyleModel",
      "_view_count": null,
      "_view_module": "@jupyter-widgets/base",
      "_view_module_version": "1.2.0",
      "_view_name": "StyleView",
      "description_width": ""
     }
    },
    "2435573a321341878622d79e1f48f3db": {
     "model_module": "@jupyter-widgets/controls",
     "model_module_version": "1.5.0",
     "model_name": "FloatProgressModel",
     "state": {
      "_dom_classes": [],
      "_model_module": "@jupyter-widgets/controls",
      "_model_module_version": "1.5.0",
      "_model_name": "FloatProgressModel",
      "_view_count": null,
      "_view_module": "@jupyter-widgets/controls",
      "_view_module_version": "1.5.0",
      "_view_name": "ProgressView",
      "bar_style": "success",
      "description": "",
      "description_tooltip": null,
      "layout": "IPY_MODEL_790808c9b4fb448aa136cc1ade0f95b5",
      "max": 818322941,
      "min": 0,
      "orientation": "horizontal",
      "style": "IPY_MODEL_99b822fd56b749318b38d8ccbc4ac469",
      "value": 818322941
     }
    },
    "469c8e5ae4d64adea773341ec22d5851": {
     "model_module": "@jupyter-widgets/controls",
     "model_module_version": "1.5.0",
     "model_name": "HTMLModel",
     "state": {
      "_dom_classes": [],
      "_model_module": "@jupyter-widgets/controls",
      "_model_module_version": "1.5.0",
      "_model_name": "HTMLModel",
      "_view_count": null,
      "_view_module": "@jupyter-widgets/controls",
      "_view_module_version": "1.5.0",
      "_view_name": "HTMLView",
      "description": "",
      "description_tooltip": null,
      "layout": "IPY_MODEL_098c321358c24cdbb50f6c0e6623bf6c",
      "placeholder": "​",
      "style": "IPY_MODEL_20184030ca9d4aef9dac0a149b89e4d3",
      "value": "100%"
     }
    },
    "790808c9b4fb448aa136cc1ade0f95b5": {
     "model_module": "@jupyter-widgets/base",
     "model_module_version": "1.2.0",
     "model_name": "LayoutModel",
     "state": {
      "_model_module": "@jupyter-widgets/base",
      "_model_module_version": "1.2.0",
      "_model_name": "LayoutModel",
      "_view_count": null,
      "_view_module": "@jupyter-widgets/base",
      "_view_module_version": "1.2.0",
      "_view_name": "LayoutView",
      "align_content": null,
      "align_items": null,
      "align_self": null,
      "border": null,
      "bottom": null,
      "display": null,
      "flex": null,
      "flex_flow": null,
      "grid_area": null,
      "grid_auto_columns": null,
      "grid_auto_flow": null,
      "grid_auto_rows": null,
      "grid_column": null,
      "grid_gap": null,
      "grid_row": null,
      "grid_template_areas": null,
      "grid_template_columns": null,
      "grid_template_rows": null,
      "height": null,
      "justify_content": null,
      "justify_items": null,
      "left": null,
      "margin": null,
      "max_height": null,
      "max_width": null,
      "min_height": null,
      "min_width": null,
      "object_fit": null,
      "object_position": null,
      "order": null,
      "overflow": null,
      "overflow_x": null,
      "overflow_y": null,
      "padding": null,
      "right": null,
      "top": null,
      "visibility": null,
      "width": null
     }
    },
    "87495c10d22c4b82bd724a4d7c300df3": {
     "model_module": "@jupyter-widgets/base",
     "model_module_version": "1.2.0",
     "model_name": "LayoutModel",
     "state": {
      "_model_module": "@jupyter-widgets/base",
      "_model_module_version": "1.2.0",
      "_model_name": "LayoutModel",
      "_view_count": null,
      "_view_module": "@jupyter-widgets/base",
      "_view_module_version": "1.2.0",
      "_view_name": "LayoutView",
      "align_content": null,
      "align_items": null,
      "align_self": null,
      "border": null,
      "bottom": null,
      "display": null,
      "flex": null,
      "flex_flow": null,
      "grid_area": null,
      "grid_auto_columns": null,
      "grid_auto_flow": null,
      "grid_auto_rows": null,
      "grid_column": null,
      "grid_gap": null,
      "grid_row": null,
      "grid_template_areas": null,
      "grid_template_columns": null,
      "grid_template_rows": null,
      "height": null,
      "justify_content": null,
      "justify_items": null,
      "left": null,
      "margin": null,
      "max_height": null,
      "max_width": null,
      "min_height": null,
      "min_width": null,
      "object_fit": null,
      "object_position": null,
      "order": null,
      "overflow": null,
      "overflow_x": null,
      "overflow_y": null,
      "padding": null,
      "right": null,
      "top": null,
      "visibility": null,
      "width": null
     }
    },
    "99b822fd56b749318b38d8ccbc4ac469": {
     "model_module": "@jupyter-widgets/controls",
     "model_module_version": "1.5.0",
     "model_name": "ProgressStyleModel",
     "state": {
      "_model_module": "@jupyter-widgets/controls",
      "_model_module_version": "1.5.0",
      "_model_name": "ProgressStyleModel",
      "_view_count": null,
      "_view_module": "@jupyter-widgets/base",
      "_view_module_version": "1.2.0",
      "_view_name": "StyleView",
      "bar_color": null,
      "description_width": ""
     }
    },
    "a4dcb697b08b4b70ab3ef3ffa54c28e4": {
     "model_module": "@jupyter-widgets/controls",
     "model_module_version": "1.5.0",
     "model_name": "HTMLModel",
     "state": {
      "_dom_classes": [],
      "_model_module": "@jupyter-widgets/controls",
      "_model_module_version": "1.5.0",
      "_model_name": "HTMLModel",
      "_view_count": null,
      "_view_module": "@jupyter-widgets/controls",
      "_view_module_version": "1.5.0",
      "_view_name": "HTMLView",
      "description": "",
      "description_tooltip": null,
      "layout": "IPY_MODEL_d542739146774953954e92db1666b951",
      "placeholder": "​",
      "style": "IPY_MODEL_e11f3a2c51204778832631a5f150b21d",
      "value": " 780M/780M [02:31&lt;00:00, 4.89MB/s]"
     }
    },
    "c79427d84662495db06b89a791d61f31": {
     "model_module": "@jupyter-widgets/controls",
     "model_module_version": "1.5.0",
     "model_name": "HBoxModel",
     "state": {
      "_dom_classes": [],
      "_model_module": "@jupyter-widgets/controls",
      "_model_module_version": "1.5.0",
      "_model_name": "HBoxModel",
      "_view_count": null,
      "_view_module": "@jupyter-widgets/controls",
      "_view_module_version": "1.5.0",
      "_view_name": "HBoxView",
      "box_style": "",
      "children": [
       "IPY_MODEL_469c8e5ae4d64adea773341ec22d5851",
       "IPY_MODEL_2435573a321341878622d79e1f48f3db",
       "IPY_MODEL_a4dcb697b08b4b70ab3ef3ffa54c28e4"
      ],
      "layout": "IPY_MODEL_87495c10d22c4b82bd724a4d7c300df3"
     }
    },
    "d542739146774953954e92db1666b951": {
     "model_module": "@jupyter-widgets/base",
     "model_module_version": "1.2.0",
     "model_name": "LayoutModel",
     "state": {
      "_model_module": "@jupyter-widgets/base",
      "_model_module_version": "1.2.0",
      "_model_name": "LayoutModel",
      "_view_count": null,
      "_view_module": "@jupyter-widgets/base",
      "_view_module_version": "1.2.0",
      "_view_name": "LayoutView",
      "align_content": null,
      "align_items": null,
      "align_self": null,
      "border": null,
      "bottom": null,
      "display": null,
      "flex": null,
      "flex_flow": null,
      "grid_area": null,
      "grid_auto_columns": null,
      "grid_auto_flow": null,
      "grid_auto_rows": null,
      "grid_column": null,
      "grid_gap": null,
      "grid_row": null,
      "grid_template_areas": null,
      "grid_template_columns": null,
      "grid_template_rows": null,
      "height": null,
      "justify_content": null,
      "justify_items": null,
      "left": null,
      "margin": null,
      "max_height": null,
      "max_width": null,
      "min_height": null,
      "min_width": null,
      "object_fit": null,
      "object_position": null,
      "order": null,
      "overflow": null,
      "overflow_x": null,
      "overflow_y": null,
      "padding": null,
      "right": null,
      "top": null,
      "visibility": null,
      "width": null
     }
    },
    "e11f3a2c51204778832631a5f150b21d": {
     "model_module": "@jupyter-widgets/controls",
     "model_module_version": "1.5.0",
     "model_name": "DescriptionStyleModel",
     "state": {
      "_model_module": "@jupyter-widgets/controls",
      "_model_module_version": "1.5.0",
      "_model_name": "DescriptionStyleModel",
      "_view_count": null,
      "_view_module": "@jupyter-widgets/base",
      "_view_module_version": "1.2.0",
      "_view_name": "StyleView",
      "description_width": ""
     }
    }
   }
  }
 },
 "nbformat": 4,
 "nbformat_minor": 1
}
